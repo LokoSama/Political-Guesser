{
 "cells": [
  {
   "cell_type": "code",
   "execution_count": 110,
   "metadata": {
    "collapsed": true
   },
   "outputs": [],
   "source": [
    "import pandas as pd\n",
    "import re\n"
   ]
  },
  {
   "cell_type": "code",
   "execution_count": 139,
   "metadata": {
    "scrolled": true
   },
   "outputs": [
    {
     "name": "stdout",
     "output_type": "stream",
     "text": [
      "[ 'Our prayers go out to families of this tragic Christmas Eve plane crash in Bartow. We will remember your loss. @BN9... '\n",
      " \"bOn @MSNBC w/ @AliVelshi discussing our @HispanicCaucus storming @SenSchumer's Office for #Dreamers #Sayfie \"\n",
      " \"Here's #GOPTaxScam chart. Rich get big tax cut. Middle Class get scraps, $2.3T in new debt &amp; cuts to SS &amp; Medicare... \"\n",
      " ...,\n",
      " \"Cosponsored the Protecting Internet Freedom Act to stop #Obama from giving away control of the #internet. @RepSeanDuffy #InternetGiveaway'\"\n",
      " 'Great to meet with #EmoryScholarsinDC this morning! @EmoryUniversity '\n",
      " 'Voted yesterday to block cash ransom payments to Iran \\\\xe2\\\\x9e\\\\x99 '] [ 1  1  1 ..., -1 -1 -1]\n"
     ]
    }
   ],
   "source": [
    "# Tool to delete unicode codes\n",
    "def unicodetoascii(text):\n",
    "    TEXT = (text.\n",
    "    \t\treplace('\\\\xe2\\\\x80\\\\x99', \"'\").\n",
    "            replace('\\\\xc3\\\\xa9', 'e').\n",
    "            replace('\\\\xe2\\\\x80\\\\x90', '-').\n",
    "            replace('\\\\xe2\\\\x80\\\\x91', '-').\n",
    "            replace('\\\\xe2\\\\x80\\\\x92', '-').\n",
    "            replace('\\\\xe2\\\\x80\\\\x93', '-').\n",
    "            replace('\\\\xe2\\\\x80\\\\x94', '-').\n",
    "            replace('\\\\xe2\\\\x80\\\\x94', '-').\n",
    "            replace('\\\\xe2\\\\x80\\\\x98', \"'\").\n",
    "            replace('\\\\xe2\\\\x80\\\\x9b', \"'\").\n",
    "            replace('\\\\xe2\\\\x80\\\\x9c', '\"').\n",
    "            replace('\\\\xe2\\\\x80\\\\x9c', '\"').\n",
    "            replace('\\\\xe2\\\\x80\\\\x9d', '\"').\n",
    "            replace('\\\\xe2\\\\x80\\\\x9e', '\"').\n",
    "            replace('\\\\xe2\\\\x80\\\\x9f', '\"').\n",
    "            replace('\\\\xe2\\\\x80\\\\xa6', '...').#\n",
    "            replace('\\\\xe2\\\\x80\\\\xb2', \"'\").\n",
    "            replace('\\\\xe2\\\\x80\\\\xb3', \"'\").\n",
    "            replace('\\\\xe2\\\\x80\\\\xb4', \"'\").\n",
    "            replace('\\\\xe2\\\\x80\\\\xb5', \"'\").\n",
    "            replace('\\\\xe2\\\\x80\\\\xb6', \"'\").\n",
    "            replace('\\\\xe2\\\\x80\\\\xb7', \"'\").\n",
    "            replace('\\\\xe2\\\\x81\\\\xba', \"+\").\n",
    "            replace('\\\\xe2\\\\x81\\\\xbb', \"-\").\n",
    "            replace('\\\\xe2\\\\x81\\\\xbc', \"=\").\n",
    "            replace('\\\\xe2\\\\x81\\\\xbd', \"(\").\n",
    "            replace('\\\\xe2\\\\x81\\\\xbe', \")\")\n",
    "                 )\n",
    "    return TEXT\n",
    "\n",
    "#Reading CSV file\n",
    "dataset=pd.read_csv('tweets3.csv', sep=',',quotechar='\"',header=None,)\n",
    "#Replacing Unicode characters\n",
    "dataset[2]=dataset[2].apply(unicodetoascii)\n",
    "#Deleting Urls\n",
    "delete_urls = lambda x:re.sub(r'http\\S+', '', x)\n",
    "dataset[2] = dataset[2].apply(delete_urls)\n",
    "#Deleting \"\n",
    "delete_quotes = lambda x:re.sub(r'\"', '', x)\n",
    "dataset[2] = dataset[2].apply(delete_quotes)\n",
    "#Deleting b\n",
    "delete_b = lambda x:re.sub(r'b\\'', '', x)\n",
    "dataset[2] = dataset[2].apply(delete_b)\n",
    "\n",
    "#Datasets\n",
    "X=dataset[2].values\n",
    "Y=dataset[3].values\n",
    "print(X,Y)"
   ]
  },
  {
   "cell_type": "code",
   "execution_count": null,
   "metadata": {
    "collapsed": true
   },
   "outputs": [],
   "source": []
  }
 ],
 "metadata": {
  "kernelspec": {
   "display_name": "Python 3",
   "language": "python",
   "name": "python3"
  },
  "language_info": {
   "codemirror_mode": {
    "name": "ipython",
    "version": 3
   },
   "file_extension": ".py",
   "mimetype": "text/x-python",
   "name": "python",
   "nbconvert_exporter": "python",
   "pygments_lexer": "ipython3",
   "version": "3.6.2"
  }
 },
 "nbformat": 4,
 "nbformat_minor": 2
}
